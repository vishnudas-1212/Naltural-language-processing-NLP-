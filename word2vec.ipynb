{
  "nbformat": 4,
  "nbformat_minor": 0,
  "metadata": {
    "colab": {
      "name": "word2vec.ipynb",
      "provenance": [],
      "authorship_tag": "ABX9TyOwurAJQbrpso/vsLOhuSVS",
      "include_colab_link": true
    },
    "kernelspec": {
      "name": "python3",
      "display_name": "Python 3"
    },
    "language_info": {
      "name": "python"
    }
  },
  "cells": [
    {
      "cell_type": "markdown",
      "metadata": {
        "id": "view-in-github",
        "colab_type": "text"
      },
      "source": [
        "<a href=\"https://colab.research.google.com/github/vishnudas-1212/Naltural-language-processing-NLP-/blob/main/word2vec.ipynb\" target=\"_parent\"><img src=\"https://colab.research.google.com/assets/colab-badge.svg\" alt=\"Open In Colab\"/></a>"
      ]
    },
    {
      "cell_type": "code",
      "metadata": {
        "colab": {
          "base_uri": "https://localhost:8080/"
        },
        "id": "1ZiAiWf_zs0S",
        "outputId": "19a42820-96fa-4625-d591-a862a1604cbd"
      },
      "source": [
        "import nltk\n",
        "nltk.download('punkt')\n",
        "nltk.download('stopwords')\n",
        "\n",
        "from gensim.models import Word2Vec\n",
        "from nltk.corpus import stopwords\n",
        "\n",
        "import re"
      ],
      "execution_count": 1,
      "outputs": [
        {
          "output_type": "stream",
          "text": [
            "[nltk_data] Downloading package punkt to /root/nltk_data...\n",
            "[nltk_data]   Package punkt is already up-to-date!\n",
            "[nltk_data] Downloading package stopwords to /root/nltk_data...\n",
            "[nltk_data]   Package stopwords is already up-to-date!\n"
          ],
          "name": "stdout"
        }
      ]
    },
    {
      "cell_type": "code",
      "metadata": {
        "id": "vJ6peQfjzvRl"
      },
      "source": [
        "paragraph = \"\"\"I have three visions for India. In 3000 years of our history, people from all over \n",
        "               the world have come and invaded us, captured our lands, conquered our minds. \n",
        "               From Alexander onwards, the Greeks, the Turks, the Moguls, the Portuguese, the British,\n",
        "               the French, the Dutch, all of them came and looted us, took over what was ours. \n",
        "               Yet we have not done this to any other nation. We have not conquered anyone. \n",
        "               We have not grabbed their land, their culture, \n",
        "               their history and tried to enforce our way of life on them. \n",
        "               Why? Because we respect the freedom of others.That is why my \n",
        "               first vision is that of freedom. I believe that India got its first vision of \n",
        "               this in 1857, when we started the War of Independence. It is this freedom that\n",
        "               we must protect and nurture and build on. If we are not free, no one will respect us.\n",
        "               My second vision for India’s development. For fifty years we have been a developing nation.\n",
        "               It is time we see ourselves as a developed nation. We are among the top 5 nations of the world\n",
        "               in terms of GDP. We have a 10 percent growth rate in most areas. Our poverty levels are falling.\n",
        "               Our achievements are being globally recognised today. Yet we lack the self-confidence to\n",
        "               see ourselves as a developed nation, self-reliant and self-assured. Isn’t this incorrect?\n",
        "               I have a third vision. India must stand up to the world. Because I believe that unless India \n",
        "               stands up to the world, no one will respect us. Only strength respects strength. We must be \n",
        "               strong not only as a military power but also as an economic power. Both must go hand-in-hand. \n",
        "               My good fortune was to have worked with three great minds. Dr. Vikram Sarabhai of the Dept. of \n",
        "               space, Professor Satish Dhawan, who succeeded him and Dr. Brahm Prakash, father of nuclear material.\n",
        "               I was lucky to have worked with all three of them closely and consider this the great opportunity of my life. \n",
        "               I see four milestones in my career\"\"\"\n"
      ],
      "execution_count": 2,
      "outputs": []
    },
    {
      "cell_type": "code",
      "metadata": {
        "id": "vulwQucLzxvU"
      },
      "source": [
        "# Preprocessing the data\n",
        "text = re.sub(r'\\[[0-9]*\\]',' ',paragraph)\n",
        "text = re.sub(r'\\s+',' ',text)\n",
        "text = text.lower()\n",
        "text = re.sub(r'\\d',' ',text)\n",
        "text = re.sub(r'\\s+',' ',text)"
      ],
      "execution_count": 3,
      "outputs": []
    },
    {
      "cell_type": "code",
      "metadata": {
        "id": "-DS2ZdclzzcY"
      },
      "source": [
        "# Preparing the dataset\n",
        "sentences = nltk.sent_tokenize(text)"
      ],
      "execution_count": 4,
      "outputs": []
    },
    {
      "cell_type": "code",
      "metadata": {
        "colab": {
          "base_uri": "https://localhost:8080/"
        },
        "id": "fBdVXllvz1RR",
        "outputId": "fdf48bc9-0a2c-4cbb-d64a-1f183f5d817b"
      },
      "source": [
        "sentences"
      ],
      "execution_count": 5,
      "outputs": [
        {
          "output_type": "execute_result",
          "data": {
            "text/plain": [
              "['i have three visions for india.',\n",
              " 'in years of our history, people from all over the world have come and invaded us, captured our lands, conquered our minds.',\n",
              " 'from alexander onwards, the greeks, the turks, the moguls, the portuguese, the british, the french, the dutch, all of them came and looted us, took over what was ours.',\n",
              " 'yet we have not done this to any other nation.',\n",
              " 'we have not conquered anyone.',\n",
              " 'we have not grabbed their land, their culture, their history and tried to enforce our way of life on them.',\n",
              " 'why?',\n",
              " 'because we respect the freedom of others.that is why my first vision is that of freedom.',\n",
              " 'i believe that india got its first vision of this in , when we started the war of independence.',\n",
              " 'it is this freedom that we must protect and nurture and build on.',\n",
              " 'if we are not free, no one will respect us.',\n",
              " 'my second vision for india’s development.',\n",
              " 'for fifty years we have been a developing nation.',\n",
              " 'it is time we see ourselves as a developed nation.',\n",
              " 'we are among the top nations of the world in terms of gdp.',\n",
              " 'we have a percent growth rate in most areas.',\n",
              " 'our poverty levels are falling.',\n",
              " 'our achievements are being globally recognised today.',\n",
              " 'yet we lack the self-confidence to see ourselves as a developed nation, self-reliant and self-assured.',\n",
              " 'isn’t this incorrect?',\n",
              " 'i have a third vision.',\n",
              " 'india must stand up to the world.',\n",
              " 'because i believe that unless india stands up to the world, no one will respect us.',\n",
              " 'only strength respects strength.',\n",
              " 'we must be strong not only as a military power but also as an economic power.',\n",
              " 'both must go hand-in-hand.',\n",
              " 'my good fortune was to have worked with three great minds.',\n",
              " 'dr. vikram sarabhai of the dept.',\n",
              " 'of space, professor satish dhawan, who succeeded him and dr. brahm prakash, father of nuclear material.',\n",
              " 'i was lucky to have worked with all three of them closely and consider this the great opportunity of my life.',\n",
              " 'i see four milestones in my career']"
            ]
          },
          "metadata": {
            "tags": []
          },
          "execution_count": 5
        }
      ]
    },
    {
      "cell_type": "code",
      "metadata": {
        "id": "lPNIczLx0TyS"
      },
      "source": [
        "sentences = [nltk.word_tokenize(sentence) for sentence in sentences]"
      ],
      "execution_count": 6,
      "outputs": []
    },
    {
      "cell_type": "code",
      "metadata": {
        "id": "CvVdpfKN0BSl"
      },
      "source": [
        "for i in range(len(sentences)):\n",
        "    sentences[i] = [word for word in sentences[i] if word not in stopwords.words('english')]"
      ],
      "execution_count": 8,
      "outputs": []
    },
    {
      "cell_type": "code",
      "metadata": {
        "colab": {
          "base_uri": "https://localhost:8080/"
        },
        "id": "DD1DsTHK0MV0",
        "outputId": "d1300ce3-10c7-4692-f011-1f1021deaaed"
      },
      "source": [
        "sentences"
      ],
      "execution_count": 9,
      "outputs": [
        {
          "output_type": "execute_result",
          "data": {
            "text/plain": [
              "[['three', 'visions', 'india', '.'],\n",
              " ['years',\n",
              "  'history',\n",
              "  ',',\n",
              "  'people',\n",
              "  'world',\n",
              "  'come',\n",
              "  'invaded',\n",
              "  'us',\n",
              "  ',',\n",
              "  'captured',\n",
              "  'lands',\n",
              "  ',',\n",
              "  'conquered',\n",
              "  'minds',\n",
              "  '.'],\n",
              " ['alexander',\n",
              "  'onwards',\n",
              "  ',',\n",
              "  'greeks',\n",
              "  ',',\n",
              "  'turks',\n",
              "  ',',\n",
              "  'moguls',\n",
              "  ',',\n",
              "  'portuguese',\n",
              "  ',',\n",
              "  'british',\n",
              "  ',',\n",
              "  'french',\n",
              "  ',',\n",
              "  'dutch',\n",
              "  ',',\n",
              "  'came',\n",
              "  'looted',\n",
              "  'us',\n",
              "  ',',\n",
              "  'took',\n",
              "  '.'],\n",
              " ['yet', 'done', 'nation', '.'],\n",
              " ['conquered', 'anyone', '.'],\n",
              " ['grabbed',\n",
              "  'land',\n",
              "  ',',\n",
              "  'culture',\n",
              "  ',',\n",
              "  'history',\n",
              "  'tried',\n",
              "  'enforce',\n",
              "  'way',\n",
              "  'life',\n",
              "  '.'],\n",
              " ['?'],\n",
              " ['respect', 'freedom', 'others.that', 'first', 'vision', 'freedom', '.'],\n",
              " ['believe',\n",
              "  'india',\n",
              "  'got',\n",
              "  'first',\n",
              "  'vision',\n",
              "  ',',\n",
              "  'started',\n",
              "  'war',\n",
              "  'independence',\n",
              "  '.'],\n",
              " ['freedom', 'must', 'protect', 'nurture', 'build', '.'],\n",
              " ['free', ',', 'one', 'respect', 'us', '.'],\n",
              " ['second', 'vision', 'india', '’', 'development', '.'],\n",
              " ['fifty', 'years', 'developing', 'nation', '.'],\n",
              " ['time', 'see', 'developed', 'nation', '.'],\n",
              " ['among', 'top', 'nations', 'world', 'terms', 'gdp', '.'],\n",
              " ['percent', 'growth', 'rate', 'areas', '.'],\n",
              " ['poverty', 'levels', 'falling', '.'],\n",
              " ['achievements', 'globally', 'recognised', 'today', '.'],\n",
              " ['yet',\n",
              "  'lack',\n",
              "  'self-confidence',\n",
              "  'see',\n",
              "  'developed',\n",
              "  'nation',\n",
              "  ',',\n",
              "  'self-reliant',\n",
              "  'self-assured',\n",
              "  '.'],\n",
              " ['’', 'incorrect', '?'],\n",
              " ['third', 'vision', '.'],\n",
              " ['india', 'must', 'stand', 'world', '.'],\n",
              " ['believe',\n",
              "  'unless',\n",
              "  'india',\n",
              "  'stands',\n",
              "  'world',\n",
              "  ',',\n",
              "  'one',\n",
              "  'respect',\n",
              "  'us',\n",
              "  '.'],\n",
              " ['strength', 'respects', 'strength', '.'],\n",
              " ['must', 'strong', 'military', 'power', 'also', 'economic', 'power', '.'],\n",
              " ['must', 'go', 'hand-in-hand', '.'],\n",
              " ['good', 'fortune', 'worked', 'three', 'great', 'minds', '.'],\n",
              " ['dr.', 'vikram', 'sarabhai', 'dept', '.'],\n",
              " ['space',\n",
              "  ',',\n",
              "  'professor',\n",
              "  'satish',\n",
              "  'dhawan',\n",
              "  ',',\n",
              "  'succeeded',\n",
              "  'dr.',\n",
              "  'brahm',\n",
              "  'prakash',\n",
              "  ',',\n",
              "  'father',\n",
              "  'nuclear',\n",
              "  'material',\n",
              "  '.'],\n",
              " ['lucky',\n",
              "  'worked',\n",
              "  'three',\n",
              "  'closely',\n",
              "  'consider',\n",
              "  'great',\n",
              "  'opportunity',\n",
              "  'life',\n",
              "  '.'],\n",
              " ['see', 'four', 'milestones', 'career']]"
            ]
          },
          "metadata": {
            "tags": []
          },
          "execution_count": 9
        }
      ]
    },
    {
      "cell_type": "code",
      "metadata": {
        "id": "W15NbfMt0OxP"
      },
      "source": [
        "# Training the Word2Vec model\n",
        "model = Word2Vec(sentences, min_count=1) # min_count is 1 here that means if the word is present less than once ignore that word"
      ],
      "execution_count": 10,
      "outputs": []
    },
    {
      "cell_type": "code",
      "metadata": {
        "id": "e-DucwZZ09GU"
      },
      "source": [
        "words=model.wv.vocab"
      ],
      "execution_count": 11,
      "outputs": []
    },
    {
      "cell_type": "code",
      "metadata": {
        "colab": {
          "base_uri": "https://localhost:8080/"
        },
        "id": "hZNT2mWE1SBt",
        "outputId": "c2a27eda-1709-430b-efc4-97ccebea2723"
      },
      "source": [
        "words"
      ],
      "execution_count": 12,
      "outputs": [
        {
          "output_type": "execute_result",
          "data": {
            "text/plain": [
              "{',': <gensim.models.keyedvectors.Vocab at 0x7f2fb115f450>,\n",
              " '.': <gensim.models.keyedvectors.Vocab at 0x7f2fb115f990>,\n",
              " '?': <gensim.models.keyedvectors.Vocab at 0x7f2fb1156e90>,\n",
              " 'achievements': <gensim.models.keyedvectors.Vocab at 0x7f2fb1141650>,\n",
              " 'alexander': <gensim.models.keyedvectors.Vocab at 0x7f2fb115f7d0>,\n",
              " 'also': <gensim.models.keyedvectors.Vocab at 0x7f2fb1157650>,\n",
              " 'among': <gensim.models.keyedvectors.Vocab at 0x7f2fb1141450>,\n",
              " 'anyone': <gensim.models.keyedvectors.Vocab at 0x7f2fb1156a10>,\n",
              " 'areas': <gensim.models.keyedvectors.Vocab at 0x7f2fb1141250>,\n",
              " 'believe': <gensim.models.keyedvectors.Vocab at 0x7f2fb11562d0>,\n",
              " 'brahm': <gensim.models.keyedvectors.Vocab at 0x7f2fb1157b50>,\n",
              " 'british': <gensim.models.keyedvectors.Vocab at 0x7f2fb115f890>,\n",
              " 'build': <gensim.models.keyedvectors.Vocab at 0x7f2fb1156f90>,\n",
              " 'came': <gensim.models.keyedvectors.Vocab at 0x7f2fb115fc90>,\n",
              " 'captured': <gensim.models.keyedvectors.Vocab at 0x7f2fb115f750>,\n",
              " 'career': <gensim.models.keyedvectors.Vocab at 0x7f2fb1157e10>,\n",
              " 'closely': <gensim.models.keyedvectors.Vocab at 0x7f2fb1157ed0>,\n",
              " 'come': <gensim.models.keyedvectors.Vocab at 0x7f2fb115f410>,\n",
              " 'conquered': <gensim.models.keyedvectors.Vocab at 0x7f2fb115f110>,\n",
              " 'consider': <gensim.models.keyedvectors.Vocab at 0x7f2fb1157dd0>,\n",
              " 'culture': <gensim.models.keyedvectors.Vocab at 0x7f2fb1156c90>,\n",
              " 'dept': <gensim.models.keyedvectors.Vocab at 0x7f2fb1157e90>,\n",
              " 'developed': <gensim.models.keyedvectors.Vocab at 0x7f2fb1141610>,\n",
              " 'developing': <gensim.models.keyedvectors.Vocab at 0x7f2fb1141290>,\n",
              " 'development': <gensim.models.keyedvectors.Vocab at 0x7f2fb1141510>,\n",
              " 'dhawan': <gensim.models.keyedvectors.Vocab at 0x7f2fb1157890>,\n",
              " 'done': <gensim.models.keyedvectors.Vocab at 0x7f2fb11565d0>,\n",
              " 'dr.': <gensim.models.keyedvectors.Vocab at 0x7f2fb1157a50>,\n",
              " 'dutch': <gensim.models.keyedvectors.Vocab at 0x7f2fb115f950>,\n",
              " 'economic': <gensim.models.keyedvectors.Vocab at 0x7f2fb11578d0>,\n",
              " 'enforce': <gensim.models.keyedvectors.Vocab at 0x7f2fb1156950>,\n",
              " 'falling': <gensim.models.keyedvectors.Vocab at 0x7f2fb11410d0>,\n",
              " 'father': <gensim.models.keyedvectors.Vocab at 0x7f2fb1157590>,\n",
              " 'fifty': <gensim.models.keyedvectors.Vocab at 0x7f2fb1141f90>,\n",
              " 'first': <gensim.models.keyedvectors.Vocab at 0x7f2fb1156590>,\n",
              " 'fortune': <gensim.models.keyedvectors.Vocab at 0x7f2fb11570d0>,\n",
              " 'four': <gensim.models.keyedvectors.Vocab at 0x7f2fb1157110>,\n",
              " 'free': <gensim.models.keyedvectors.Vocab at 0x7f2fb1156e10>,\n",
              " 'freedom': <gensim.models.keyedvectors.Vocab at 0x7f2fb11563d0>,\n",
              " 'french': <gensim.models.keyedvectors.Vocab at 0x7f2fb115f290>,\n",
              " 'gdp': <gensim.models.keyedvectors.Vocab at 0x7f2fb11415d0>,\n",
              " 'globally': <gensim.models.keyedvectors.Vocab at 0x7f2fb11414d0>,\n",
              " 'go': <gensim.models.keyedvectors.Vocab at 0x7f2fb1157fd0>,\n",
              " 'good': <gensim.models.keyedvectors.Vocab at 0x7f2fb11579d0>,\n",
              " 'got': <gensim.models.keyedvectors.Vocab at 0x7f2fb1156f50>,\n",
              " 'grabbed': <gensim.models.keyedvectors.Vocab at 0x7f2fb1156210>,\n",
              " 'great': <gensim.models.keyedvectors.Vocab at 0x7f2fb1157bd0>,\n",
              " 'greeks': <gensim.models.keyedvectors.Vocab at 0x7f2fb115ffd0>,\n",
              " 'growth': <gensim.models.keyedvectors.Vocab at 0x7f2fb1141310>,\n",
              " 'hand-in-hand': <gensim.models.keyedvectors.Vocab at 0x7f2fb1157050>,\n",
              " 'history': <gensim.models.keyedvectors.Vocab at 0x7f2fb115f250>,\n",
              " 'incorrect': <gensim.models.keyedvectors.Vocab at 0x7f2fb1157b90>,\n",
              " 'independence': <gensim.models.keyedvectors.Vocab at 0x7f2fb1156810>,\n",
              " 'india': <gensim.models.keyedvectors.Vocab at 0x7f2fb115f9d0>,\n",
              " 'invaded': <gensim.models.keyedvectors.Vocab at 0x7f2fb115f810>,\n",
              " 'lack': <gensim.models.keyedvectors.Vocab at 0x7f2fb3968ed0>,\n",
              " 'land': <gensim.models.keyedvectors.Vocab at 0x7f2fb1156150>,\n",
              " 'lands': <gensim.models.keyedvectors.Vocab at 0x7f2fb115fed0>,\n",
              " 'levels': <gensim.models.keyedvectors.Vocab at 0x7f2fb1141910>,\n",
              " 'life': <gensim.models.keyedvectors.Vocab at 0x7f2fb1156890>,\n",
              " 'looted': <gensim.models.keyedvectors.Vocab at 0x7f2fb115ff10>,\n",
              " 'lucky': <gensim.models.keyedvectors.Vocab at 0x7f2fb1157d10>,\n",
              " 'material': <gensim.models.keyedvectors.Vocab at 0x7f2fb1157ad0>,\n",
              " 'milestones': <gensim.models.keyedvectors.Vocab at 0x7f2fb1157690>,\n",
              " 'military': <gensim.models.keyedvectors.Vocab at 0x7f2fb1157a10>,\n",
              " 'minds': <gensim.models.keyedvectors.Vocab at 0x7f2fb115ff50>,\n",
              " 'moguls': <gensim.models.keyedvectors.Vocab at 0x7f2fb115f150>,\n",
              " 'must': <gensim.models.keyedvectors.Vocab at 0x7f2fb1156690>,\n",
              " 'nation': <gensim.models.keyedvectors.Vocab at 0x7f2fb1156290>,\n",
              " 'nations': <gensim.models.keyedvectors.Vocab at 0x7f2fb11412d0>,\n",
              " 'nuclear': <gensim.models.keyedvectors.Vocab at 0x7f2fb11571d0>,\n",
              " 'nurture': <gensim.models.keyedvectors.Vocab at 0x7f2fb1156ed0>,\n",
              " 'one': <gensim.models.keyedvectors.Vocab at 0x7f2fb11560d0>,\n",
              " 'onwards': <gensim.models.keyedvectors.Vocab at 0x7f2fb115fcd0>,\n",
              " 'opportunity': <gensim.models.keyedvectors.Vocab at 0x7f2fb1157d50>,\n",
              " 'others.that': <gensim.models.keyedvectors.Vocab at 0x7f2fb1156ad0>,\n",
              " 'people': <gensim.models.keyedvectors.Vocab at 0x7f2fb115f3d0>,\n",
              " 'percent': <gensim.models.keyedvectors.Vocab at 0x7f2fb1141390>,\n",
              " 'portuguese': <gensim.models.keyedvectors.Vocab at 0x7f2fb115f090>,\n",
              " 'poverty': <gensim.models.keyedvectors.Vocab at 0x7f2fb1141090>,\n",
              " 'power': <gensim.models.keyedvectors.Vocab at 0x7f2fb1157b10>,\n",
              " 'prakash': <gensim.models.keyedvectors.Vocab at 0x7f2fb1157610>,\n",
              " 'professor': <gensim.models.keyedvectors.Vocab at 0x7f2fb1157c10>,\n",
              " 'protect': <gensim.models.keyedvectors.Vocab at 0x7f2fb1156110>,\n",
              " 'rate': <gensim.models.keyedvectors.Vocab at 0x7f2fb1141410>,\n",
              " 'recognised': <gensim.models.keyedvectors.Vocab at 0x7f2fb11411d0>,\n",
              " 'respect': <gensim.models.keyedvectors.Vocab at 0x7f2fb1156610>,\n",
              " 'respects': <gensim.models.keyedvectors.Vocab at 0x7f2fb1157750>,\n",
              " 'sarabhai': <gensim.models.keyedvectors.Vocab at 0x7f2fb1157cd0>,\n",
              " 'satish': <gensim.models.keyedvectors.Vocab at 0x7f2fb1157850>,\n",
              " 'second': <gensim.models.keyedvectors.Vocab at 0x7f2fb1156050>,\n",
              " 'see': <gensim.models.keyedvectors.Vocab at 0x7f2fb11419d0>,\n",
              " 'self-assured': <gensim.models.keyedvectors.Vocab at 0x7f2fb1157f10>,\n",
              " 'self-confidence': <gensim.models.keyedvectors.Vocab at 0x7f2fb3968b10>,\n",
              " 'self-reliant': <gensim.models.keyedvectors.Vocab at 0x7f2fcb477f50>,\n",
              " 'space': <gensim.models.keyedvectors.Vocab at 0x7f2fb1157990>,\n",
              " 'stand': <gensim.models.keyedvectors.Vocab at 0x7f2fb1157a90>,\n",
              " 'stands': <gensim.models.keyedvectors.Vocab at 0x7f2fb1157810>,\n",
              " 'started': <gensim.models.keyedvectors.Vocab at 0x7f2fb11569d0>,\n",
              " 'strength': <gensim.models.keyedvectors.Vocab at 0x7f2fb1157c50>,\n",
              " 'strong': <gensim.models.keyedvectors.Vocab at 0x7f2fb1157790>,\n",
              " 'succeeded': <gensim.models.keyedvectors.Vocab at 0x7f2fb1157d90>,\n",
              " 'terms': <gensim.models.keyedvectors.Vocab at 0x7f2fb11418d0>,\n",
              " 'third': <gensim.models.keyedvectors.Vocab at 0x7f2fb1157c90>,\n",
              " 'three': <gensim.models.keyedvectors.Vocab at 0x7f2fb115f2d0>,\n",
              " 'time': <gensim.models.keyedvectors.Vocab at 0x7f2fb1141210>,\n",
              " 'today': <gensim.models.keyedvectors.Vocab at 0x7f2fb3968bd0>,\n",
              " 'took': <gensim.models.keyedvectors.Vocab at 0x7f2fb115fc50>,\n",
              " 'top': <gensim.models.keyedvectors.Vocab at 0x7f2fb1141490>,\n",
              " 'tried': <gensim.models.keyedvectors.Vocab at 0x7f2fb11564d0>,\n",
              " 'turks': <gensim.models.keyedvectors.Vocab at 0x7f2fb115fdd0>,\n",
              " 'unless': <gensim.models.keyedvectors.Vocab at 0x7f2fb1157f90>,\n",
              " 'us': <gensim.models.keyedvectors.Vocab at 0x7f2fb115f6d0>,\n",
              " 'vikram': <gensim.models.keyedvectors.Vocab at 0x7f2fb1157910>,\n",
              " 'vision': <gensim.models.keyedvectors.Vocab at 0x7f2fb1156b10>,\n",
              " 'visions': <gensim.models.keyedvectors.Vocab at 0x7f2fb115f0d0>,\n",
              " 'war': <gensim.models.keyedvectors.Vocab at 0x7f2fb1156dd0>,\n",
              " 'way': <gensim.models.keyedvectors.Vocab at 0x7f2fb1156910>,\n",
              " 'worked': <gensim.models.keyedvectors.Vocab at 0x7f2fb1157950>,\n",
              " 'world': <gensim.models.keyedvectors.Vocab at 0x7f2fb115f350>,\n",
              " 'years': <gensim.models.keyedvectors.Vocab at 0x7f2fb115f1d0>,\n",
              " 'yet': <gensim.models.keyedvectors.Vocab at 0x7f2fb115fe50>,\n",
              " '’': <gensim.models.keyedvectors.Vocab at 0x7f2fb113ec90>}"
            ]
          },
          "metadata": {
            "tags": []
          },
          "execution_count": 12
        }
      ]
    },
    {
      "cell_type": "code",
      "metadata": {
        "id": "S-baDWrg1TX2"
      },
      "source": [
        "vector=model.wv['war']"
      ],
      "execution_count": 13,
      "outputs": []
    },
    {
      "cell_type": "code",
      "metadata": {
        "colab": {
          "base_uri": "https://localhost:8080/"
        },
        "id": "qiT4oZTE1nsp",
        "outputId": "c8d67cb0-e1ef-4835-8df6-ece3a8853dec"
      },
      "source": [
        "vector"
      ],
      "execution_count": 14,
      "outputs": [
        {
          "output_type": "execute_result",
          "data": {
            "text/plain": [
              "array([-4.3535107e-03,  3.9357413e-03,  4.2259670e-03,  9.7083935e-04,\n",
              "       -2.6528372e-03,  5.4550468e-04, -3.1160545e-03,  4.8635849e-03,\n",
              "       -7.9267204e-04, -1.6216593e-03, -9.3484303e-04,  2.5678852e-03,\n",
              "       -3.5461693e-03,  3.9675299e-04,  3.9803339e-03,  3.6641273e-03,\n",
              "        2.1678634e-04, -3.6026670e-03, -3.9312174e-03, -4.9719273e-04,\n",
              "       -4.4885050e-03,  2.2002491e-03,  2.9608479e-03, -3.7625744e-03,\n",
              "       -2.6271250e-03, -7.4763288e-04,  4.0801805e-03,  3.9946432e-03,\n",
              "       -3.6008582e-03, -2.0257579e-03,  9.1710582e-04,  1.8139508e-03,\n",
              "       -4.7862232e-03, -2.1523540e-03, -6.8739697e-05, -4.0174756e-04,\n",
              "       -1.2495627e-03,  3.8685830e-04,  1.7413132e-04, -2.0765420e-03,\n",
              "       -2.0068234e-03, -4.3404959e-03, -4.1057630e-03, -4.5616929e-03,\n",
              "       -4.5237304e-03,  4.6955878e-03, -1.0758050e-03,  2.7210629e-03,\n",
              "       -3.4943528e-03,  3.5907724e-04, -8.7890442e-04, -3.4273744e-03,\n",
              "        2.0056341e-03,  3.1081366e-03,  3.0034087e-03, -3.0113244e-03,\n",
              "       -3.6102813e-03,  4.9840589e-03,  4.3398924e-03, -4.7247470e-03,\n",
              "        2.4476927e-03,  3.3035188e-03,  4.3321047e-03,  2.5493358e-03,\n",
              "        4.5416113e-03, -3.0922524e-03,  3.1160952e-03,  7.9784176e-04,\n",
              "       -2.0539609e-03,  4.3378389e-03, -1.1995923e-03, -2.1922062e-03,\n",
              "        2.4834308e-03, -1.7152429e-03, -1.6133328e-03, -2.6008373e-03,\n",
              "        4.5435899e-03,  3.7779172e-03,  1.3816028e-03, -3.1345510e-03,\n",
              "        1.7817793e-03,  2.2873436e-03, -8.9831150e-04,  1.9849800e-03,\n",
              "        1.7901233e-03, -2.7119095e-04, -4.3117371e-03, -3.9336113e-03,\n",
              "        4.0096473e-03,  2.7322751e-03,  3.8277961e-03, -4.9156845e-03,\n",
              "       -2.9848409e-03,  3.1750109e-03,  3.6053772e-03,  3.8410700e-03,\n",
              "        8.0333697e-04,  6.0401281e-04, -3.0575267e-03,  2.4753392e-03],\n",
              "      dtype=float32)"
            ]
          },
          "metadata": {
            "tags": []
          },
          "execution_count": 14
        }
      ]
    },
    {
      "cell_type": "code",
      "metadata": {
        "id": "SuD43MBJ1otR"
      },
      "source": [
        "\n",
        "# Most similar words\n",
        "similar = model.wv.most_similar('india') #whenever i have india i will be having these words"
      ],
      "execution_count": 27,
      "outputs": []
    },
    {
      "cell_type": "code",
      "metadata": {
        "colab": {
          "base_uri": "https://localhost:8080/"
        },
        "id": "HWK4iTL111ji",
        "outputId": "e8efa3e6-138e-4063-dd08-c87202410fac"
      },
      "source": [
        "similar"
      ],
      "execution_count": 26,
      "outputs": [
        {
          "output_type": "execute_result",
          "data": {
            "text/plain": [
              "[('strength', 0.25526726245880127),\n",
              " ('war', 0.2171173244714737),\n",
              " ('stands', 0.1823161244392395),\n",
              " ('space', 0.18009811639785767),\n",
              " ('nation', 0.17890681326389313),\n",
              " ('brahm', 0.17387467622756958),\n",
              " ('history', 0.15658363699913025),\n",
              " ('yet', 0.14936794340610504),\n",
              " ('build', 0.13295172154903412),\n",
              " ('land', 0.12899461388587952)]"
            ]
          },
          "metadata": {
            "tags": []
          },
          "execution_count": 26
        }
      ]
    },
    {
      "cell_type": "code",
      "metadata": {
        "colab": {
          "base_uri": "https://localhost:8080/",
          "height": 404
        },
        "id": "69C53IAl12zj",
        "outputId": "c2430d39-2f0b-4a25-f398-b311e4b5fca3"
      },
      "source": [
        "text"
      ],
      "execution_count": 24,
      "outputs": [
        {
          "output_type": "execute_result",
          "data": {
            "application/vnd.google.colaboratory.intrinsic+json": {
              "type": "string"
            },
            "text/plain": [
              "'i have three visions for india. in years of our history, people from all over the world have come and invaded us, captured our lands, conquered our minds. from alexander onwards, the greeks, the turks, the moguls, the portuguese, the british, the french, the dutch, all of them came and looted us, took over what was ours. yet we have not done this to any other nation. we have not conquered anyone. we have not grabbed their land, their culture, their history and tried to enforce our way of life on them. why? because we respect the freedom of others.that is why my first vision is that of freedom. i believe that india got its first vision of this in , when we started the war of independence. it is this freedom that we must protect and nurture and build on. if we are not free, no one will respect us. my second vision for india’s development. for fifty years we have been a developing nation. it is time we see ourselves as a developed nation. we are among the top nations of the world in terms of gdp. we have a percent growth rate in most areas. our poverty levels are falling. our achievements are being globally recognised today. yet we lack the self-confidence to see ourselves as a developed nation, self-reliant and self-assured. isn’t this incorrect? i have a third vision. india must stand up to the world. because i believe that unless india stands up to the world, no one will respect us. only strength respects strength. we must be strong not only as a military power but also as an economic power. both must go hand-in-hand. my good fortune was to have worked with three great minds. dr. vikram sarabhai of the dept. of space, professor satish dhawan, who succeeded him and dr. brahm prakash, father of nuclear material. i was lucky to have worked with all three of them closely and consider this the great opportunity of my life. i see four milestones in my career'"
            ]
          },
          "metadata": {
            "tags": []
          },
          "execution_count": 24
        }
      ]
    },
    {
      "cell_type": "code",
      "metadata": {
        "id": "sH3OjfZH2nji"
      },
      "source": [
        ""
      ],
      "execution_count": null,
      "outputs": []
    }
  ]
}